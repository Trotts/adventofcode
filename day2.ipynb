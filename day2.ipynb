{
 "cells": [
  {
   "cell_type": "markdown",
   "metadata": {},
   "source": [
    "# Day 2\n",
    "## Cameron Trotter\n",
    "\n",
    "\n",
    "### Read in input"
   ]
  },
  {
   "cell_type": "code",
   "execution_count": 5,
   "metadata": {},
   "outputs": [],
   "source": [
    "with open('./inputs/day2.txt') as f:\n",
    "    lines = [line.rstrip('\\n') for line in f]"
   ]
  },
  {
   "cell_type": "markdown",
   "metadata": {},
   "source": [
    "### Part 1"
   ]
  },
  {
   "cell_type": "code",
   "execution_count": 16,
   "metadata": {},
   "outputs": [
    {
     "name": "stdout",
     "output_type": "stream",
     "text": [
      "9241\n"
     ]
    }
   ],
   "source": [
    "decrypt = {'X': 'A', 'Y': 'B', 'Z': 'C'}\n",
    "selected_points = {'A': 1, 'B': 2, 'C': 3}\n",
    "outcome_points = {'win': 6, 'draw': 3, 'lose': 0}\n",
    "\n",
    "total = 0\n",
    "\n",
    "for line in lines:\n",
    "    opponent, me = line.split(' ')\n",
    "    me = decrypt[me]\n",
    "    \n",
    "    line_total = 0\n",
    "    \n",
    "    # Add point for option chosen by me\n",
    "    line_total += selected_points[me]\n",
    "    \n",
    "    # If draw, add 3\n",
    "    if opponent == me:\n",
    "        line_total += outcome_points['draw']\n",
    "        \n",
    "    # If win, add 6\n",
    "    elif (me == 'A' and opponent == 'C') or (me == 'C' and opponent == 'B') or (me == 'B' and opponent == 'A'):\n",
    "        line_total += outcome_points['win']\n",
    "    \n",
    "    # Add to overall total\n",
    "    total += line_total\n",
    "    \n",
    "print(total)"
   ]
  },
  {
   "cell_type": "markdown",
   "metadata": {},
   "source": [
    "### Part 2"
   ]
  },
  {
   "cell_type": "code",
   "execution_count": 33,
   "metadata": {},
   "outputs": [
    {
     "name": "stdout",
     "output_type": "stream",
     "text": [
      "14610\n"
     ]
    }
   ],
   "source": [
    "key_beats_value = {'A': 'C', 'C': 'B', 'B': 'A'}\n",
    "\n",
    "total = 0\n",
    "\n",
    "for line in lines:\n",
    "    opponent, todo = line.split(' ')\n",
    "    \n",
    "    # if need to draw, set to same as opp\n",
    "    if todo == 'Y':\n",
    "        me = opponent\n",
    "        \n",
    "    # if need to lose, choose value for opp's key\n",
    "    if todo == 'X':\n",
    "        me = key_beats_value[opponent]\n",
    "        \n",
    "    # if need to win, choose key for opp's value \n",
    "    if todo == 'Z':\n",
    "        me = list(key_beats_value.keys())[list(key_beats_value.values()).index(opponent)]\n",
    "        \n",
    "    line_total = 0\n",
    "    \n",
    "    # Add point for option chosen by me\n",
    "    line_total += selected_points[me]\n",
    "    \n",
    "    # If draw, add 3\n",
    "    if opponent == me:\n",
    "        line_total += outcome_points['draw']\n",
    "        \n",
    "    # If win, add 6\n",
    "    elif (me == 'A' and opponent == 'C') or (me == 'C' and opponent == 'B') or (me == 'B' and opponent == 'A'):\n",
    "        line_total += outcome_points['win']\n",
    "    \n",
    "    # Add to overall total\n",
    "    total += line_total\n",
    "    \n",
    "print(total)"
   ]
  },
  {
   "cell_type": "code",
   "execution_count": null,
   "metadata": {},
   "outputs": [],
   "source": []
  }
 ],
 "metadata": {
  "kernelspec": {
   "display_name": "Python 3",
   "language": "python",
   "name": "python3"
  },
  "language_info": {
   "codemirror_mode": {
    "name": "ipython",
    "version": 3
   },
   "file_extension": ".py",
   "mimetype": "text/x-python",
   "name": "python",
   "nbconvert_exporter": "python",
   "pygments_lexer": "ipython3",
   "version": "3.9.0"
  }
 },
 "nbformat": 4,
 "nbformat_minor": 4
}
