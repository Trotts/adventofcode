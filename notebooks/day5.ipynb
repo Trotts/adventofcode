{
 "cells": [
  {
   "cell_type": "markdown",
   "metadata": {},
   "source": [
    "# Day 5\n",
    "## Cameron Trotter\n",
    "\n",
    "\n",
    "### Imports"
   ]
  },
  {
   "cell_type": "code",
   "execution_count": 1,
   "metadata": {},
   "outputs": [],
   "source": [
    "import re"
   ]
  },
  {
   "cell_type": "markdown",
   "metadata": {},
   "source": [
    "### Read in input"
   ]
  },
  {
   "cell_type": "code",
   "execution_count": 2,
   "metadata": {},
   "outputs": [],
   "source": [
    "with open('../inputs/day5.txt') as f:\n",
    "    lines = [line.rstrip('\\n') for line in f]"
   ]
  },
  {
   "cell_type": "markdown",
   "metadata": {},
   "source": [
    "### Part 1\n",
    "\n",
    "#### Split the input into its parts"
   ]
  },
  {
   "cell_type": "code",
   "execution_count": 3,
   "metadata": {},
   "outputs": [],
   "source": [
    "# Split the string into the starting map and the steps \n",
    "empty_line = lines.index('')\n",
    "start_map, steps = lines[:empty_line-1], lines[empty_line+1:]\n",
    "num_stacks = int(lines[empty_line -1].strip(' ')[-1])"
   ]
  },
  {
   "cell_type": "markdown",
   "metadata": {},
   "source": [
    "#### Generate the stack"
   ]
  },
  {
   "cell_type": "code",
   "execution_count": 4,
   "metadata": {},
   "outputs": [
    {
     "data": {
      "text/plain": [
       "[['P', 'F', 'M', 'Q', 'W', 'G', 'R', 'T'],\n",
       " ['H', 'F', 'R'],\n",
       " ['P', 'Z', 'R', 'V', 'G', 'H', 'S', 'D'],\n",
       " ['Q', 'H', 'P', 'B', 'F', 'W', 'G'],\n",
       " ['P', 'S', 'M', 'J', 'H'],\n",
       " ['M', 'Z', 'T', 'H', 'S', 'R', 'P', 'L'],\n",
       " ['P', 'T', 'H', 'N', 'M', 'L'],\n",
       " ['F', 'D', 'Q', 'R'],\n",
       " ['D', 'S', 'C', 'N', 'L', 'P', 'H']]"
      ]
     },
     "metadata": {},
     "output_type": "display_data"
    }
   ],
   "source": [
    "# Build the starting lists based on the map\n",
    "## Fill in missing cols if stack not high enough\n",
    "for i,row in enumerate(start_map):\n",
    "    start_map[i] = row.replace('    ', '[ ]')\n",
    "    \n",
    "## Build stacks based on the rows\n",
    "### Initialise the stacks as empty\n",
    "stacks = [[] for x in range(num_stacks)]\n",
    "### Populate\n",
    "for row in start_map:\n",
    "    # Get values inside the [ ]\n",
    "    values_in_row = re.findall(r\"\\[([A-Za-z0-9_ ]+)\\]\", row)\n",
    "    # fill the stacks, avoiding spaces\n",
    "    for i, value in enumerate(values_in_row):\n",
    "        if value != ' ':\n",
    "            stacks[i].append(value)\n",
    "\n",
    "### Reverse the stacks\n",
    "stacks = [stack[::-1] for stack in stacks]\n",
    "\n",
    "\n",
    "display(stacks)"
   ]
  },
  {
   "cell_type": "markdown",
   "metadata": {},
   "source": [
    "#### Move the boxes around, get last value of each stack when done"
   ]
  },
  {
   "cell_type": "code",
   "execution_count": 5,
   "metadata": {
    "scrolled": true
   },
   "outputs": [
    {
     "data": {
      "text/plain": [
       "[['R', 'Q', 'M', 'M', 'T'],\n",
       " ['H', 'S', 'R', 'P'],\n",
       " ['T', 'Z', 'D', 'C', 'P', 'G'],\n",
       " ['F', 'V'],\n",
       " ['Q'],\n",
       " ['P',\n",
       "  'H',\n",
       "  'P',\n",
       "  'S',\n",
       "  'G',\n",
       "  'R',\n",
       "  'N',\n",
       "  'M',\n",
       "  'S',\n",
       "  'G',\n",
       "  'R',\n",
       "  'M',\n",
       "  'F',\n",
       "  'W',\n",
       "  'H',\n",
       "  'S',\n",
       "  'H',\n",
       "  'B',\n",
       "  'L',\n",
       "  'P'],\n",
       " ['F', 'F'],\n",
       " ['R', 'P', 'H', 'L', 'Z', 'W', 'L', 'T', 'N', 'H', 'J', 'D', 'Q', 'P', 'D'],\n",
       " ['H']]"
      ]
     },
     "metadata": {},
     "output_type": "display_data"
    }
   ],
   "source": [
    "for step in steps:\n",
    "    # Parse the step\n",
    "    ints = [int(s) for s in re.findall(r'\\b\\d+\\b', step)]\n",
    "    # -1 as stack is 0 indexed but steps are 1 indexed\n",
    "    num_to_move, from_, to = ints[0], ints[1] - 1, ints[2] - 1\n",
    "\n",
    "    # Move the boxes required by the step\n",
    "    for i in range(num_to_move):\n",
    "        box_to_move = stacks[from_].pop()\n",
    "        stacks[to].append(box_to_move)\n",
    "        \n",
    "display(stacks)"
   ]
  },
  {
   "cell_type": "markdown",
   "metadata": {},
   "source": [
    "#### Build string of boxes at top of each stack for submission   "
   ]
  },
  {
   "cell_type": "code",
   "execution_count": 6,
   "metadata": {},
   "outputs": [
    {
     "name": "stdout",
     "output_type": "stream",
     "text": [
      "TPGVQPFDH\n"
     ]
    }
   ],
   "source": [
    "print(''.join([boxes[-1] for boxes in stacks]))"
   ]
  },
  {
   "cell_type": "markdown",
   "metadata": {},
   "source": [
    "### Part 2"
   ]
  },
  {
   "cell_type": "markdown",
   "metadata": {},
   "source": [
    "#### Rebuild the stack"
   ]
  },
  {
   "cell_type": "code",
   "execution_count": 7,
   "metadata": {},
   "outputs": [
    {
     "data": {
      "text/plain": [
       "[['P', 'F', 'M', 'Q', 'W', 'G', 'R', 'T'],\n",
       " ['H', 'F', 'R'],\n",
       " ['P', 'Z', 'R', 'V', 'G', 'H', 'S', 'D'],\n",
       " ['Q', 'H', 'P', 'B', 'F', 'W', 'G'],\n",
       " ['P', 'S', 'M', 'J', 'H'],\n",
       " ['M', 'Z', 'T', 'H', 'S', 'R', 'P', 'L'],\n",
       " ['P', 'T', 'H', 'N', 'M', 'L'],\n",
       " ['F', 'D', 'Q', 'R'],\n",
       " ['D', 'S', 'C', 'N', 'L', 'P', 'H']]"
      ]
     },
     "metadata": {},
     "output_type": "display_data"
    }
   ],
   "source": [
    "# Build the starting lists based on the map\n",
    "## Fill in missing cols if stack not high enough\n",
    "for i,row in enumerate(start_map):\n",
    "    start_map[i] = row.replace('    ', '[ ]')\n",
    "    \n",
    "## Build stacks based on the rows\n",
    "### Initialise the stacks as empty\n",
    "stacks = [[] for x in range(num_stacks)]\n",
    "### Populate\n",
    "for row in start_map:\n",
    "    # Get values inside the [ ]\n",
    "    values_in_row = re.findall(r\"\\[([A-Za-z0-9_ ]+)\\]\", row)\n",
    "    # fill the stacks, avoiding spaces\n",
    "    for i, value in enumerate(values_in_row):\n",
    "        if value != ' ':\n",
    "            stacks[i].append(value)\n",
    "\n",
    "### Reverse the stacks\n",
    "stacks = [stack[::-1] for stack in stacks]\n",
    "\n",
    "\n",
    "display(stacks)"
   ]
  },
  {
   "cell_type": "markdown",
   "metadata": {},
   "source": [
    "#### Move the boxes, now all at once rather than one at a time"
   ]
  },
  {
   "cell_type": "code",
   "execution_count": 8,
   "metadata": {},
   "outputs": [
    {
     "data": {
      "text/plain": [
       "[['V', 'T', 'J', 'P', 'D'],\n",
       " ['M', 'H', 'N', 'M'],\n",
       " ['N', 'T', 'P', 'F', 'Q', 'R'],\n",
       " ['Q', 'D'],\n",
       " ['F'],\n",
       " ['B',\n",
       "  'Z',\n",
       "  'W',\n",
       "  'W',\n",
       "  'S',\n",
       "  'L',\n",
       "  'L',\n",
       "  'G',\n",
       "  'M',\n",
       "  'P',\n",
       "  'P',\n",
       "  'D',\n",
       "  'Q',\n",
       "  'S',\n",
       "  'R',\n",
       "  'F',\n",
       "  'R',\n",
       "  'P',\n",
       "  'H',\n",
       "  'R'],\n",
       " ['P', 'H'],\n",
       " ['Z', 'L', 'C', 'H', 'F', 'G', 'H', 'P', 'G', 'R', 'S', 'M', 'T', 'S', 'H'],\n",
       " ['H']]"
      ]
     },
     "metadata": {},
     "output_type": "display_data"
    }
   ],
   "source": [
    "for step in steps:\n",
    "    # Parse the step\n",
    "    ints = [int(s) for s in re.findall(r'\\b\\d+\\b', step)]\n",
    "    # -1 as stack is 0 indexed but steps are 1 indexed\n",
    "    num_to_move, from_, to = ints[0], ints[1] - 1, ints[2] - 1\n",
    "\n",
    "    # Move the boxes required by the step, all at once\n",
    "    boxes_to_move = stacks[from_][-num_to_move:]\n",
    "    del stacks[from_][-num_to_move:]\n",
    "    stacks[to] += boxes_to_move\n",
    "        \n",
    "display(stacks)"
   ]
  },
  {
   "cell_type": "markdown",
   "metadata": {},
   "source": [
    "#### Build string of boxes at top of each stack for submission   "
   ]
  },
  {
   "cell_type": "code",
   "execution_count": 9,
   "metadata": {},
   "outputs": [
    {
     "name": "stdout",
     "output_type": "stream",
     "text": [
      "DMRDFRHHH\n"
     ]
    }
   ],
   "source": [
    "print(''.join([boxes[-1] for boxes in stacks]))"
   ]
  },
  {
   "cell_type": "code",
   "execution_count": null,
   "metadata": {},
   "outputs": [],
   "source": []
  }
 ],
 "metadata": {
  "kernelspec": {
   "display_name": "Python 3",
   "language": "python",
   "name": "python3"
  },
  "language_info": {
   "codemirror_mode": {
    "name": "ipython",
    "version": 3
   },
   "file_extension": ".py",
   "mimetype": "text/x-python",
   "name": "python",
   "nbconvert_exporter": "python",
   "pygments_lexer": "ipython3",
   "version": "3.9.0"
  }
 },
 "nbformat": 4,
 "nbformat_minor": 4
}
