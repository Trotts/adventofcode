{
 "cells": [
  {
   "cell_type": "markdown",
   "metadata": {},
   "source": [
    "# Day 3\n",
    "## Cameron Trotter\n",
    "\n",
    "\n",
    "### Read in input"
   ]
  },
  {
   "cell_type": "code",
   "execution_count": 1,
   "metadata": {},
   "outputs": [],
   "source": [
    "with open('../inputs/day3.txt') as f:\n",
    "    lines = [line.rstrip('\\n') for line in f]"
   ]
  },
  {
   "cell_type": "markdown",
   "metadata": {},
   "source": [
    "### Part 1"
   ]
  },
  {
   "cell_type": "code",
   "execution_count": 2,
   "metadata": {},
   "outputs": [],
   "source": [
    "priority_total = 0\n",
    "\n",
    "for line in lines:\n",
    "    # Split the line into the two components\n",
    "    length = len(line)\n",
    "    first_half = line[slice(0, length//2)]\n",
    "    second_half = line[slice(length//2, length)]\n",
    "    \n",
    "    # Find the common chars\n",
    "    common = ''.join(set(first_half).intersection(second_half))\n",
    "    \n",
    "    # Get priority and add to total\n",
    "    if common.isupper():\n",
    "        to_add = 26\n",
    "    else:\n",
    "        to_add = 0\n",
    "    \n",
    "    priority_total += ord(common.lower()) - 96 + to_add\n",
    "\n",
    "print(priority_total)"
   ]
  },
  {
   "cell_type": "markdown",
   "metadata": {},
   "source": [
    "### Part 2"
   ]
  },
  {
   "cell_type": "code",
   "execution_count": 3,
   "metadata": {},
   "outputs": [],
   "source": [
    "priority_total = 0\n",
    "\n",
    "for line1, line2, line3 in zip(*[iter(lines)]*3):\n",
    "    common = ''.join(set.intersection(*map(set,[line1, line2, line3])))\n",
    "    \n",
    "    # Get priority and add to total\n",
    "    if common.isupper():\n",
    "        to_add = 26\n",
    "    else:\n",
    "        to_add = 0\n",
    "    \n",
    "    priority_total += ord(common.lower()) - 96 + to_add\n",
    "\n",
    "print(priority_total)"
   ]
  },
  {
   "cell_type": "code",
   "execution_count": null,
   "metadata": {},
   "outputs": [],
   "source": []
  }
 ],
 "metadata": {
  "kernelspec": {
   "display_name": "Python 3",
   "language": "python",
   "name": "python3"
  },
  "language_info": {
   "codemirror_mode": {
    "name": "ipython",
    "version": 3
   },
   "file_extension": ".py",
   "mimetype": "text/x-python",
   "name": "python",
   "nbconvert_exporter": "python",
   "pygments_lexer": "ipython3",
   "version": "3.9.0"
  }
 },
 "nbformat": 4,
 "nbformat_minor": 4
}
