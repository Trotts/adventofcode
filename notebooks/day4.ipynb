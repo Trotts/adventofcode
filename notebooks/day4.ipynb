{
 "cells": [
  {
   "cell_type": "markdown",
   "metadata": {},
   "source": [
    "# Day 4\n",
    "## Cameron Trotter\n",
    "\n",
    "\n",
    "### Read in input"
   ]
  },
  {
   "cell_type": "code",
   "execution_count": 2,
   "metadata": {},
   "outputs": [],
   "source": [
    "with open('../inputs/day4.txt') as f:\n",
    "    lines = [line.rstrip('\\n') for line in f]"
   ]
  },
  {
   "cell_type": "markdown",
   "metadata": {},
   "source": [
    "### Part 1"
   ]
  },
  {
   "cell_type": "code",
   "execution_count": 15,
   "metadata": {},
   "outputs": [
    {
     "name": "stdout",
     "output_type": "stream",
     "text": [
      "509\n"
     ]
    }
   ],
   "source": [
    "num_overlaps = 0\n",
    "\n",
    "for line in lines:\n",
    "    # Find start and end for each elf    \n",
    "    elf_1, elf_2 = line.split(',')\n",
    "    elf_1_start, elf_1_end = elf_1.split('-')\n",
    "    elf_2_start, elf_2_end = elf_2.split('-')\n",
    "    \n",
    "    # Get all ints for each elf\n",
    "    elf_1 = list(range(int(elf_1_start), int(elf_1_end) + 1))\n",
    "    elf_2 = list(range(int(elf_2_start), int(elf_2_end) + 1))\n",
    "    \n",
    "    # If either elf's list contains all of the other elf's list, increment num_overlaps\n",
    "    if all(elem in elf_1 for elem in elf_2) or all(elem in elf_2 for elem in elf_1):\n",
    "        num_overlaps += 1\n",
    "\n",
    "print(num_overlaps)"
   ]
  },
  {
   "cell_type": "markdown",
   "metadata": {},
   "source": [
    "### Part 2"
   ]
  },
  {
   "cell_type": "code",
   "execution_count": 16,
   "metadata": {},
   "outputs": [
    {
     "name": "stdout",
     "output_type": "stream",
     "text": [
      "870\n"
     ]
    }
   ],
   "source": [
    "num_overlaps = 0\n",
    "\n",
    "for line in lines:\n",
    "    # Find start and end for each elf    \n",
    "    elf_1, elf_2 = line.split(',')\n",
    "    elf_1_start, elf_1_end = elf_1.split('-')\n",
    "    elf_2_start, elf_2_end = elf_2.split('-')\n",
    "    \n",
    "    # Get all ints for each elf\n",
    "    elf_1 = list(range(int(elf_1_start), int(elf_1_end) + 1))\n",
    "    elf_2 = list(range(int(elf_2_start), int(elf_2_end) + 1))\n",
    "    \n",
    "    # If either elf's list contains any of the other elf's list, increment num_overlaps\n",
    "    if any(elem in elf_1 for elem in elf_2) or any(elem in elf_2 for elem in elf_1):\n",
    "        num_overlaps += 1\n",
    "\n",
    "print(num_overlaps)"
   ]
  },
  {
   "cell_type": "code",
   "execution_count": null,
   "metadata": {},
   "outputs": [],
   "source": []
  }
 ],
 "metadata": {
  "kernelspec": {
   "display_name": "Python 3",
   "language": "python",
   "name": "python3"
  },
  "language_info": {
   "codemirror_mode": {
    "name": "ipython",
    "version": 3
   },
   "file_extension": ".py",
   "mimetype": "text/x-python",
   "name": "python",
   "nbconvert_exporter": "python",
   "pygments_lexer": "ipython3",
   "version": "3.9.0"
  }
 },
 "nbformat": 4,
 "nbformat_minor": 4
}
