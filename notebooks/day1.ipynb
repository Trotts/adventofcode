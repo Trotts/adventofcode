{
 "cells": [
  {
   "cell_type": "markdown",
   "metadata": {},
   "source": [
    "# Day 1\n",
    "## Cameron Trotter\n",
    "\n",
    "\n",
    "### Read in input"
   ]
  },
  {
   "cell_type": "code",
   "execution_count": 2,
   "metadata": {},
   "outputs": [],
   "source": [
    "with open('../inputs/day1.txt') as f:\n",
    "    lines = f.readlines()"
   ]
  },
  {
   "cell_type": "markdown",
   "metadata": {},
   "source": [
    "### Part 1"
   ]
  },
  {
   "cell_type": "code",
   "execution_count": 27,
   "metadata": {},
   "outputs": [
    {
     "name": "stdout",
     "output_type": "stream",
     "text": [
      "70369\n"
     ]
    }
   ],
   "source": [
    "elves = []\n",
    "\n",
    "# Set the default for the first elf\n",
    "elf = 0\n",
    "\n",
    "for line in lines:\n",
    "    # Strip the new line\n",
    "    line = line.strip(\"\\n\")\n",
    "    \n",
    "    # if the line is empty, new elf\n",
    "    if not line.strip():\n",
    "        elves.append(elf)\n",
    "        elf = 0\n",
    "\n",
    "    # else, add to elf rations\n",
    "    else:\n",
    "        elf += int(line)\n",
    "        \n",
    "# Find elf carrying most calories\n",
    "print(sorted(elves)[-1])"
   ]
  },
  {
   "cell_type": "markdown",
   "metadata": {},
   "source": [
    "### Part 2"
   ]
  },
  {
   "cell_type": "code",
   "execution_count": 33,
   "metadata": {},
   "outputs": [
    {
     "name": "stdout",
     "output_type": "stream",
     "text": [
      "203002\n"
     ]
    }
   ],
   "source": [
    "print(sum(sorted(elves)[-3:]))"
   ]
  },
  {
   "cell_type": "code",
   "execution_count": null,
   "metadata": {},
   "outputs": [],
   "source": []
  }
 ],
 "metadata": {
  "kernelspec": {
   "display_name": "Python 3",
   "language": "python",
   "name": "python3"
  },
  "language_info": {
   "codemirror_mode": {
    "name": "ipython",
    "version": 3
   },
   "file_extension": ".py",
   "mimetype": "text/x-python",
   "name": "python",
   "nbconvert_exporter": "python",
   "pygments_lexer": "ipython3",
   "version": "3.9.0"
  }
 },
 "nbformat": 4,
 "nbformat_minor": 4
}
